{
 "cells": [
  {
   "cell_type": "code",
   "execution_count": 1,
   "id": "4bd993e1-a801-4eb5-877d-a9d0cb0fe5c3",
   "metadata": {},
   "outputs": [],
   "source": [
    "import tkinter as tk\n",
    "from tkinter import messagebox, simpledialog\n",
    "def add_note():\n",
    "    note = simpledialog.askstring(\"Add Note\", \"Enter your note:\")\n",
    "    if note:\n",
    "        notes_listbox.insert(tk.END, note)\n",
    "def delete_note():\n",
    "    selected_note = notes_listbox.curselection()\n",
    "    if selected_note:\n",
    "        notes_listbox.delete(selected_note)\n",
    "    else:\n",
    "        messagebox.showwarning(\"Warning\", \"Please select a note to delete.\")\n",
    "root = tk.Tk()\n",
    "root.title(\"Notes App\")\n",
    "root.geometry(\"400x500\")\n",
    "notes_frame = tk.Frame(root)\n",
    "notes_frame.pack(pady=10)\n",
    "notes_listbox = tk.Listbox(notes_frame, width=40, height=10, font=(\"Arial\", 14))\n",
    "notes_listbox.pack(side=tk.LEFT, fill=tk.BOTH, padx=5)\n",
    "scrollbar = tk.Scrollbar(notes_frame, orient=\"vertical\", command=notes_listbox.yview)\n",
    "scrollbar.pack(side=tk.RIGHT, fill=tk.Y)\n",
    "notes_listbox.config(yscrollcommand=scrollbar.set)\n",
    "button_frame = tk.Frame(root)\n",
    "button_frame.pack(pady=10)\n",
    "add_button = tk.Button(button_frame, text=\"Add Note\", command=add_note, width=15)\n",
    "add_button.grid(row=0, column=0, padx=5)\n",
    "delete_button = tk.Button(button_frame, text=\"Delete Note\", command=delete_note, width=15)\n",
    "delete_button.grid(row=0, column=1, padx=5)\n",
    "root.mainloop()\n"
   ]
  },
  {
   "cell_type": "code",
   "execution_count": null,
   "id": "d7d2aff7-9f0d-49b8-8d46-96392665708d",
   "metadata": {},
   "outputs": [],
   "source": []
  }
 ],
 "metadata": {
  "kernelspec": {
   "display_name": "Python 3 (ipykernel)",
   "language": "python",
   "name": "python3"
  },
  "language_info": {
   "codemirror_mode": {
    "name": "ipython",
    "version": 3
   },
   "file_extension": ".py",
   "mimetype": "text/x-python",
   "name": "python",
   "nbconvert_exporter": "python",
   "pygments_lexer": "ipython3",
   "version": "3.12.4"
  }
 },
 "nbformat": 4,
 "nbformat_minor": 5
}
